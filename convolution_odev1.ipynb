{
 "cells": [
  {
   "cell_type": "code",
   "execution_count": 1,
   "metadata": {},
   "outputs": [],
   "source": [
    "import matplotlib.pyplot as plt\n",
    "import numpy as np"
   ]
  },
  {
   "cell_type": "code",
   "execution_count": 14,
   "metadata": {},
   "outputs": [
    {
     "name": "stdout",
     "output_type": "stream",
     "text": [
      "X[n] dizisinin alt indisini girin.0\n",
      "X[n] dizisinin ust indisini girin.4\n",
      "h[n] dizisinin alt indisini girin.-1\n",
      "h[n] dizisinin alt indisini girin.2\n"
     ]
    }
   ],
   "source": [
    "# indislerin alt ve ust sinirlarini aldik.\n",
    "x_low = int(input(\"X[n] dizisinin alt indisini girin.\"))\n",
    "x_high = int(input(\"X[n] dizisinin ust indisini girin.\"))\n",
    "h_low = int(input(\"h[n] dizisinin alt indisini girin.\"))\n",
    "h_high = int(input(\"h[n] dizisinin alt indisini girin.\"))"
   ]
  },
  {
   "cell_type": "code",
   "execution_count": 15,
   "metadata": {},
   "outputs": [
    {
     "name": "stdout",
     "output_type": "stream",
     "text": [
      "x dizinin 0. indisinin degerini girin.-2\n",
      "x dizinin 1. indisinin degerini girin.4\n",
      "x dizinin 2. indisinin degerini girin.-1\n",
      "x dizinin 3. indisinin degerini girin.3\n",
      "x dizinin 4. indisinin degerini girin.4\n",
      "****************************************************************\n",
      "h dizinin -1. indisinin degerini girin.2\n",
      "h dizinin 0. indisinin degerini girin.-3\n",
      "h dizinin 1. indisinin degerini girin.-4\n",
      "h dizinin 2. indisinin degerini girin.5\n"
     ]
    }
   ],
   "source": [
    "#### x ve h sinyallerinin degerlerini aldik\n",
    "x_aralik = x_high - x_low + 1\n",
    "h_aralik = h_high - h_low + 1\n",
    "x = []\n",
    "h = []\n",
    "\n",
    "for i in range(x_aralik):\n",
    "    x.append(int(input(\"x dizinin {indis}. indisinin degerini girin.\".format(indis = x_low+i))))\n",
    "\n",
    "print(\"****************************************************************\")\n",
    "\n",
    "for i in range(h_aralik):\n",
    "    h.append(int(input(\"h dizinin {indis}. indisinin degerini girin.\".format(indis = h_low+i))))"
   ]
  },
  {
   "cell_type": "code",
   "execution_count": 16,
   "metadata": {},
   "outputs": [],
   "source": [
    "# built-in convolution fonksiyonu\n",
    "conv_low = x_low + h_low\n",
    "conv_high = x_high + h_high\n",
    "\n",
    "conv_result = np.convolve(x,h)"
   ]
  },
  {
   "cell_type": "code",
   "execution_count": 17,
   "metadata": {},
   "outputs": [
    {
     "name": "stdout",
     "output_type": "stream",
     "text": [
      "[ -4  14  -6 -17  23 -29  -1  20]\n",
      "[ -4.  14.  -6. -17.  23. -29.  -1.  20.]\n"
     ]
    }
   ],
   "source": [
    "# kendi convolution fonksiyonum\n",
    "def my_conv(x, h, conv_low, conv_high):\n",
    "    y = np.zeros(conv_high - conv_low + 1)\n",
    "    for i in range(len(x)):\n",
    "        for k in range(len(h)):\n",
    "            y[i+k] = y[i+k] + x[i]*h[k]\n",
    "    return y\n",
    "my_conv_result = my_conv(x, h, conv_low, conv_high)\n",
    "print(conv_result)\n",
    "print(my_conv_result)"
   ]
  },
  {
   "cell_type": "code",
   "execution_count": 18,
   "metadata": {},
   "outputs": [
    {
     "data": {
      "text/plain": [
       "Text(0.5, 1.0, 'my convolution')"
      ]
     },
     "execution_count": 18,
     "metadata": {},
     "output_type": "execute_result"
    },
    {
     "data": {
      "image/png": "[encoded data removed]",
      "text/plain": [
       "<Figure size 1080x648 with 4 Axes>"
      ]
     },
     "metadata": {
      "needs_background": "light"
     },
     "output_type": "display_data"
    }
   ],
   "source": [
    "# figurlerin cizilmesi ve karsilastirma\n",
    "fig, ((ax1, ax2), (ax3, ax4)) = plt.subplots(2, 2, figsize=(15,9))\n",
    "\n",
    "ax1.stem(np.arange(x_low, x_high+1), x)\n",
    "ax1.set_title(\"x[n]\")\n",
    "ax2.stem(np.arange(h_low, h_high+1), h)\n",
    "ax2.set_title(\"h[n]\")\n",
    "ax3.stem(np.arange(conv_low, conv_high+1) , conv_result)\n",
    "ax3.set_title(\"built-in convolution\")\n",
    "ax4.stem(np.arange(conv_low, conv_high+1), my_conv_result)\n",
    "ax4.set_title(\"my convolution\")\n"
   ]
  }
 ],
 "metadata": {
  "kernelspec": {
   "display_name": "Python 3",
   "language": "python",
   "name": "python3"
  },
  "language_info": {
   "codemirror_mode": {
    "name": "ipython",
    "version": 3
   },
   "file_extension": ".py",
   "mimetype": "text/x-python",
   "name": "python",
   "nbconvert_exporter": "python",
   "pygments_lexer": "ipython3",
   "version": "3.8.5"
  }
 },
 "nbformat": 4,
 "nbformat_minor": 5
}
